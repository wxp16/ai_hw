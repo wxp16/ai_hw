{
  "nbformat": 4,
  "nbformat_minor": 0,
  "metadata": {
    "colab": {
      "provenance": []
    },
    "kernelspec": {
      "name": "python3",
      "display_name": "Python 3"
    },
    "language_info": {
      "name": "python"
    }
  },
  "cells": [
    {
      "cell_type": "code",
      "execution_count": 6,
      "metadata": {
        "colab": {
          "base_uri": "https://localhost:8080/"
        },
        "id": "a3w--jtF7XdN",
        "outputId": "f42d8c59-3619-4a30-affd-e93f943fd934"
      },
      "outputs": [
        {
          "output_type": "stream",
          "name": "stdout",
          "text": [
            "a    1.0\n",
            "b    2.0\n",
            "c    3.0\n",
            "d    4.0\n",
            "e    5.0\n",
            "dtype: float64\n"
          ]
        }
      ],
      "source": [
        "import pandas as pd\n",
        "import numpy as np\n",
        "\n",
        "s = pd.Series([1, 2, 3, 4, 5], index = ['a', 'b', 'c', 'd', 'e'], dtype = np.float64)\n",
        "print(s)"
      ]
    },
    {
      "cell_type": "code",
      "source": [
        "dictionary = {\n",
        "    \"dogs\": 3,\n",
        "    \"cats\": 1,\n",
        "    \"bunnies\": 7,\n",
        "    \"turtles\": 2,\n",
        "    \"fish\": 11\n",
        "}\n",
        "\n",
        "dict_series = pd.Series(dictionary)\n",
        "print(dict_series)"
      ],
      "metadata": {
        "colab": {
          "base_uri": "https://localhost:8080/"
        },
        "id": "dPfr1SDl_3WX",
        "outputId": "1eb5f845-8d8c-477a-e7c0-2a0820b0c496"
      },
      "execution_count": 10,
      "outputs": [
        {
          "output_type": "stream",
          "name": "stdout",
          "text": [
            "dogs        3\n",
            "cats        1\n",
            "bunnies     7\n",
            "turtles     2\n",
            "fish       11\n",
            "dtype: int64\n"
          ]
        }
      ]
    },
    {
      "cell_type": "code",
      "source": [
        "arr = np.arange(5)\n",
        "np_series = pd.Series(arr)\n",
        "print(np_series)"
      ],
      "metadata": {
        "colab": {
          "base_uri": "https://localhost:8080/"
        },
        "id": "3qudQANUAXeF",
        "outputId": "1f9f9ac2-8298-41b1-a1d3-9fafe3fa4eb3"
      },
      "execution_count": 14,
      "outputs": [
        {
          "output_type": "stream",
          "name": "stdout",
          "text": [
            "0    0\n",
            "1    1\n",
            "2    2\n",
            "3    3\n",
            "4    4\n",
            "dtype: int64\n"
          ]
        }
      ]
    },
    {
      "cell_type": "code",
      "source": [
        "empty_series = pd.Series(dtype = np.bool)\n",
        "print(empty_series)"
      ],
      "metadata": {
        "colab": {
          "base_uri": "https://localhost:8080/"
        },
        "id": "eNAK9j1nAt6e",
        "outputId": "30b0489e-29a5-438a-e637-e9b4fd878441"
      },
      "execution_count": 18,
      "outputs": [
        {
          "output_type": "stream",
          "name": "stdout",
          "text": [
            "Series([], dtype: bool)\n"
          ]
        }
      ]
    },
    {
      "cell_type": "code",
      "source": [
        "dict_lists = {\n",
        "    'Col 1': [0, 1, 2, 4, 5],\n",
        "    'Col 2': [6, 7, 8, 9, 10],\n",
        "    'Col 3': [11, 12, 13, 14, 15],\n",
        "}\n",
        "\n",
        "df_dict_lists = pd.DataFrame(dict_lists)\n",
        "print(df_dict_lists)"
      ],
      "metadata": {
        "colab": {
          "base_uri": "https://localhost:8080/"
        },
        "id": "-R266y-uA_zV",
        "outputId": "70b13a20-5f5c-4444-f4bd-341899bd22a7"
      },
      "execution_count": 39,
      "outputs": [
        {
          "output_type": "stream",
          "name": "stdout",
          "text": [
            "   Col 1  Col 2  Col 3\n",
            "0      0      6     11\n",
            "1      1      7     12\n",
            "2      2      8     13\n",
            "3      4      9     14\n",
            "4      5     10     15\n"
          ]
        }
      ]
    },
    {
      "cell_type": "code",
      "source": [
        "dict_series = {\n",
        "    \"Series 1\": pd.Series([0, 1, 2, 3, 4]),\n",
        "    \"Series 2\": pd.Series([6, 7, 8, 9, 10]),\n",
        "    \"Series 3\": pd.Series([11, 12, 13, 14, 15]),\n",
        "}\n",
        "\n",
        "df_dict_series = pd.DataFrame(dict_series)\n",
        "print(df_dict_series)"
      ],
      "metadata": {
        "colab": {
          "base_uri": "https://localhost:8080/"
        },
        "id": "Um8Mj1YdBplD",
        "outputId": "5169000d-ad6f-4cae-afe0-2ab8586ae398"
      },
      "execution_count": 45,
      "outputs": [
        {
          "output_type": "stream",
          "name": "stdout",
          "text": [
            "   Series 1  Series 2  Series 3\n",
            "0         0         6        11\n",
            "1         1         7        12\n",
            "2         2         8        13\n",
            "3         3         9        14\n",
            "4         4        10        15\n"
          ]
        }
      ]
    },
    {
      "cell_type": "code",
      "source": [
        "np.random.seed(10)\n",
        "\n",
        "dict1 = {\n",
        "    '1': np.random.randint(1, 101, 5),\n",
        "    '2': np.random.randint(1, 101, 5),\n",
        "    '3': np.random.randint(1, 101, 5),\n",
        "}\n",
        "\n",
        "dict2 = {\n",
        "    '1': np.random.randint(1, 101, 5),\n",
        "    '2': np.random.randint(1, 101, 5),\n",
        "    '3': np.random.randint(1, 101, 5),\n",
        "}\n",
        "\n",
        "dict3 = {\n",
        "    '1': np.random.randint(1, 101, 5),\n",
        "    '2': np.random.randint(1, 101, 5),\n",
        "    '3': np.random.randint(1, 101, 5),\n",
        "}\n",
        "\n",
        "dict4 = {\n",
        "    '1': np.random.randint(1, 101, 5),\n",
        "    '2': np.random.randint(1, 101, 5),\n",
        "    '3': np.random.randint(1, 101, 5),\n",
        "}\n",
        "\n",
        "dict5 = {\n",
        "    '1': np.random.randint(1, 101, 5),\n",
        "    '2': np.random.randint(1, 101, 5),\n",
        "    '3': np.random.randint(1, 101, 5),\n",
        "}\n",
        "\n",
        "list_dicts = list([dict1, dict2, dict3, dict4, dict5])\n",
        "df_list_dicts = pd.DataFrame(list_dicts)\n",
        "print(df_list_dicts)"
      ],
      "metadata": {
        "colab": {
          "base_uri": "https://localhost:8080/"
        },
        "id": "Jwq16vasB-bm",
        "outputId": "83f9d01e-a363-4aa6-e08a-4208f764c8f4"
      },
      "execution_count": 64,
      "outputs": [
        {
          "output_type": "stream",
          "name": "stdout",
          "text": [
            "                      1                     2                     3\n",
            "0  [10, 16, 65, 29, 90]    [94, 30, 9, 74, 1]  [41, 37, 17, 12, 55]\n",
            "1  [89, 63, 34, 73, 79]  [50, 52, 55, 78, 70]  [14, 26, 14, 93, 87]\n",
            "2  [31, 31, 90, 13, 66]  [32, 58, 37, 28, 19]  [94, 78, 23, 24, 95]\n",
            "3  [12, 29, 75, 89, 10]  [16, 19, 81, 72, 89]   [12, 18, 47, 8, 76]\n",
            "4  [29, 34, 85, 97, 89]    [45, 6, 5, 72, 89]  [89, 51, 55, 35, 16]\n"
          ]
        }
      ]
    },
    {
      "cell_type": "code",
      "source": [
        "arr_2d = np.arange(15).reshape(5, 3)\n",
        "\n",
        "df_arr_2d = pd.DataFrame(arr_2d, index = [\"A\", \"B\", \"C\", \"D\", \"E\"], columns = [\"A\", \"B\", \"C\"])\n",
        "print(df_arr_2d)"
      ],
      "metadata": {
        "colab": {
          "base_uri": "https://localhost:8080/"
        },
        "id": "doEDcrprFWD5",
        "outputId": "0eb9b89b-1f72-471b-f132-cb3387850238"
      },
      "execution_count": 73,
      "outputs": [
        {
          "output_type": "stream",
          "name": "stdout",
          "text": [
            "    A   B   C\n",
            "A   0   1   2\n",
            "B   3   4   5\n",
            "C   6   7   8\n",
            "D   9  10  11\n",
            "E  12  13  14\n"
          ]
        }
      ]
    },
    {
      "cell_type": "code",
      "source": [
        "series = pd.Series([0, 1, 2, 3, 4])\n",
        "series_arr = np.array(series)\n",
        "print(series_arr)"
      ],
      "metadata": {
        "colab": {
          "base_uri": "https://localhost:8080/"
        },
        "id": "wJ2ie09GGiAX",
        "outputId": "92dd5922-c16f-49df-e5e9-bc1addf4a436"
      },
      "execution_count": 77,
      "outputs": [
        {
          "output_type": "stream",
          "name": "stdout",
          "text": [
            "[0 1 2 3 4]\n"
          ]
        }
      ]
    },
    {
      "cell_type": "code",
      "source": [
        "dataframe = pd.DataFrame({'A': [10, 20, 30, 60, 70], 'B': [40, 50, 60, 70, 80], 'C': [1, 2, 3, 4, 5]})\n",
        "dataframe_arr = np.array(dataframe)\n",
        "print(dataframe_arr)"
      ],
      "metadata": {
        "colab": {
          "base_uri": "https://localhost:8080/"
        },
        "id": "Q-uAcw8wGrfZ",
        "outputId": "00fae9a7-8385-4b1c-bb6f-3254bb5c44d7"
      },
      "execution_count": 84,
      "outputs": [
        {
          "output_type": "stream",
          "name": "stdout",
          "text": [
            "[[10 40  1]\n",
            " [20 50  2]\n",
            " [30 60  3]\n",
            " [60 70  4]\n",
            " [70 80  5]]\n"
          ]
        }
      ]
    },
    {
      "cell_type": "code",
      "source": [
        "empty_dataframe = pd.DataFrame(dtype = np.float64)\n",
        "print(empty_dataframe)"
      ],
      "metadata": {
        "colab": {
          "base_uri": "https://localhost:8080/"
        },
        "id": "8vj9U5Z8HDHg",
        "outputId": "5e8cbbdb-9b45-4504-9e2d-c5ee41b58415"
      },
      "execution_count": 88,
      "outputs": [
        {
          "output_type": "stream",
          "name": "stdout",
          "text": [
            "Empty DataFrame\n",
            "Columns: []\n",
            "Index: []\n"
          ]
        }
      ]
    }
  ]
}