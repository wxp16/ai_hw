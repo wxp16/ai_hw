{
  "nbformat": 4,
  "nbformat_minor": 0,
  "metadata": {
    "colab": {
      "provenance": []
    },
    "kernelspec": {
      "name": "python3",
      "display_name": "Python 3"
    },
    "language_info": {
      "name": "python"
    }
  },
  "cells": [
    {
      "cell_type": "code",
      "source": [
        "import pandas as pd\n",
        "\n",
        "# I used the Titanic passenger information dataset\n",
        "titanic = pd.read_csv(\"Titanic.csv\")\n",
        "\n",
        "doubled = pd.DataFrame(titanic * 2)\n",
        "print(doubled)\n",
        "\n",
        "doubled.to_csv('titanic_doubled.csv', index = False)"
      ],
      "metadata": {
        "colab": {
          "base_uri": "https://localhost:8080/"
        },
        "id": "ecrEcJxnuUUV",
        "outputId": "203e39ba-afa1-4e12-bea2-7a462efe211f"
      },
      "execution_count": 105,
      "outputs": [
        {
          "output_type": "stream",
          "name": "stdout",
          "text": [
            "     PassengerId  Pclass                                               Name  \\\n",
            "0           1784       6                   Kelly, Mr. JamesKelly, Mr. James   \n",
            "1           1786       6  Wilkes, Mrs. James (Ellen Needs)Wilkes, Mrs. J...   \n",
            "2           1788       4  Myles, Mr. Thomas FrancisMyles, Mr. Thomas Fra...   \n",
            "3           1790       6                   Wirz, Mr. AlbertWirz, Mr. Albert   \n",
            "4           1792       6  Hirvonen, Mrs. Alexander (Helga E Lindqvist)Hi...   \n",
            "..           ...     ...                                                ...   \n",
            "413         2610       6               Spector, Mr. WoolfSpector, Mr. Woolf   \n",
            "414         2612       2  Oliva y Ocana, Dona. FerminaOliva y Ocana, Don...   \n",
            "415         2614       6  Saether, Mr. Simon SivertsenSaether, Mr. Simon...   \n",
            "416         2616       6             Ware, Mr. FrederickWare, Mr. Frederick   \n",
            "417         2618       6   Peter, Master. Michael JPeter, Master. Michael J   \n",
            "\n",
            "              Sex    Age  SibSp  Parch                                Ticket  \\\n",
            "0        malemale   69.0      0      0                          330911330911   \n",
            "1    femalefemale   94.0      2      0                          363272363272   \n",
            "2        malemale  124.0      0      0                          240276240276   \n",
            "3        malemale   54.0      0      0                          315154315154   \n",
            "4    femalefemale   44.0      2      2                        31012983101298   \n",
            "..            ...    ...    ...    ...                                   ...   \n",
            "413      malemale    NaN      0      0                    A.5. 3236A.5. 3236   \n",
            "414  femalefemale   78.0      0      0                      PC 17758PC 17758   \n",
            "415      malemale   77.0      0      0  SOTON/O.Q. 3101262SOTON/O.Q. 3101262   \n",
            "416      malemale    NaN      0      0                          359309359309   \n",
            "417      malemale    NaN      2      2                              26682668   \n",
            "\n",
            "         Fare     Cabin Embarked  \n",
            "0     15.6584       NaN       QQ  \n",
            "1     14.0000       NaN       SS  \n",
            "2     19.3750       NaN       QQ  \n",
            "3     17.3250       NaN       SS  \n",
            "4     24.5750       NaN       SS  \n",
            "..        ...       ...      ...  \n",
            "413   16.1000       NaN       SS  \n",
            "414  217.8000  C105C105       CC  \n",
            "415   14.5000       NaN       SS  \n",
            "416   16.1000       NaN       SS  \n",
            "417   44.7166       NaN       CC  \n",
            "\n",
            "[418 rows x 11 columns]\n"
          ]
        }
      ]
    },
    {
      "cell_type": "code",
      "source": [
        "manual_dataset = pd.read_csv(\"test.csv\")\n",
        "\n",
        "doubled = pd.DataFrame(manual_dataset * 2)\n",
        "print(doubled)\n",
        "\n",
        "doubled.to_csv('manual_dataset_doubled.csv', index = False)"
      ],
      "metadata": {
        "colab": {
          "base_uri": "https://localhost:8080/"
        },
        "id": "Ic99tvDQxmuJ",
        "outputId": "d3563ed0-a452-4f0a-ef28-2e3096f1a863"
      },
      "execution_count": 107,
      "outputs": [
        {
          "output_type": "stream",
          "name": "stdout",
          "text": [
            "    ColA   ColB   ColC   ColD\n",
            "0      2      4      6      8\n",
            "1     10     12     14     16\n",
            "2     18     20     22     24\n",
            "3     26     28     30     32\n",
            "4     34     36     38     40\n",
            "5     42     44     46     48\n",
            "6     50     52     54     56\n",
            "7     58     60     62     64\n",
            "8     66     68     70     72\n",
            "9     74     76     78     80\n",
            "10    82     84     86     88\n",
            "11    90     92     94     96\n",
            "12    98    100    102    104\n",
            "13   106    108    110    112\n",
            "14   114    116    118    120\n"
          ]
        }
      ]
    }
  ]
}