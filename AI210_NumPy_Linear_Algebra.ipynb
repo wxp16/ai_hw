{
  "nbformat": 4,
  "nbformat_minor": 0,
  "metadata": {
    "colab": {
      "provenance": []
    },
    "kernelspec": {
      "name": "python3",
      "display_name": "Python 3"
    },
    "language_info": {
      "name": "python"
    }
  },
  "cells": [
    {
      "cell_type": "code",
      "execution_count": null,
      "metadata": {
        "colab": {
          "base_uri": "https://localhost:8080/"
        },
        "id": "UTnmmq10JdOY",
        "outputId": "e83d3c63-efde-436a-8c3d-7fb88fb1e8ab"
      },
      "outputs": [
        {
          "output_type": "stream",
          "name": "stdout",
          "text": [
            "30\n",
            "()\n"
          ]
        }
      ],
      "source": [
        "import numpy as np\n",
        "\n",
        "N = 5\n",
        "x = np.arange(N)\n",
        "y = np.arange(N)\n",
        "\n",
        "dot_product = x @ y\n",
        "print(dot_product)\n",
        "print(dot_product.shape)\n",
        "\n",
        "# x @ y compute the dot product of x and y and the shape returned is 0"
      ]
    },
    {
      "cell_type": "code",
      "source": [
        "x = np.arange(N)\n",
        "y = np.arange(N * N).reshape(N, N)\n",
        "\n",
        "dot_product = x @ y\n",
        "print(dot_product)\n",
        "print(dot_product.shape)\n",
        "\n",
        "# x @ y works only if the shape of x is equal to the rows of y and the shape returned is N,"
      ],
      "metadata": {
        "colab": {
          "base_uri": "https://localhost:8080/"
        },
        "id": "D4Qua-JvJrLL",
        "outputId": "63e568c3-b3ca-42cc-d8fc-f8c6a2a80215"
      },
      "execution_count": null,
      "outputs": [
        {
          "output_type": "stream",
          "name": "stdout",
          "text": [
            "[150 160 170 180 190]\n",
            "(5,)\n"
          ]
        }
      ]
    },
    {
      "cell_type": "code",
      "source": [
        "x = np.arange(N)\n",
        "y = np.arange(N * N).reshape(N, N)\n",
        "\n",
        "dot_product = y @ x\n",
        "print(dot_product)\n",
        "print(dot_product.shape)\n",
        "\n",
        "# y @ x works only if the shape of x is equal to the columns of y and the shape returned is N,"
      ],
      "metadata": {
        "colab": {
          "base_uri": "https://localhost:8080/"
        },
        "id": "WOhnEhHyKlXx",
        "outputId": "a74d7c9f-d64a-4fa1-f64b-35bf846974df"
      },
      "execution_count": null,
      "outputs": [
        {
          "output_type": "stream",
          "name": "stdout",
          "text": [
            "[ 30  80 130 180 230]\n",
            "(5,)\n"
          ]
        }
      ]
    },
    {
      "cell_type": "code",
      "source": [
        "M = 3\n",
        "\n",
        "x = np.arange(N * M).reshape(N, M)\n",
        "y = np.arange(N * M).reshape(M, N)\n",
        "\n",
        "dot_product = x @ y\n",
        "print(dot_product)\n",
        "print(dot_product.shape)\n",
        "\n",
        "# the requirement is that the cols of x = rows of y.\n",
        "# the shape will be (rows of x, cols of y)"
      ],
      "metadata": {
        "colab": {
          "base_uri": "https://localhost:8080/"
        },
        "id": "CykxQ4GhLyse",
        "outputId": "1723c413-6ca8-481f-8f7d-d9a19873a165"
      },
      "execution_count": null,
      "outputs": [
        {
          "output_type": "stream",
          "name": "stdout",
          "text": [
            "[[ 25  28  31  34  37]\n",
            " [ 70  82  94 106 118]\n",
            " [115 136 157 178 199]\n",
            " [160 190 220 250 280]\n",
            " [205 244 283 322 361]]\n",
            "(5, 5)\n"
          ]
        }
      ]
    },
    {
      "cell_type": "code",
      "source": [
        "x = np.arange(6)\n",
        "diag = np.diag(x)\n",
        "print(diag)\n",
        "print(diag.shape)"
      ],
      "metadata": {
        "colab": {
          "base_uri": "https://localhost:8080/"
        },
        "id": "Gb8oRgM7hJav",
        "outputId": "5f9c6b20-9bcd-4366-fd7e-7de53ce861b5"
      },
      "execution_count": null,
      "outputs": [
        {
          "output_type": "stream",
          "name": "stdout",
          "text": [
            "[[0 0 0 0 0 0]\n",
            " [0 1 0 0 0 0]\n",
            " [0 0 2 0 0 0]\n",
            " [0 0 0 3 0 0]\n",
            " [0 0 0 0 4 0]\n",
            " [0 0 0 0 0 5]]\n",
            "(6, 6)\n"
          ]
        }
      ]
    },
    {
      "cell_type": "code",
      "source": [
        "identity = np.identity(5)\n",
        "print(identity)"
      ],
      "metadata": {
        "colab": {
          "base_uri": "https://localhost:8080/"
        },
        "id": "PGR4zQ5MhgUR",
        "outputId": "f0e99b21-d81d-42f3-b177-9ec63395dd81"
      },
      "execution_count": null,
      "outputs": [
        {
          "output_type": "stream",
          "name": "stdout",
          "text": [
            "[[1. 0. 0. 0. 0.]\n",
            " [0. 1. 0. 0. 0.]\n",
            " [0. 0. 1. 0. 0.]\n",
            " [0. 0. 0. 1. 0.]\n",
            " [0. 0. 0. 0. 1.]]\n"
          ]
        }
      ]
    },
    {
      "cell_type": "code",
      "source": [
        "np.random.seed(14)\n",
        "\n",
        "x = np.random.randn(5, 5)\n",
        "print(x)\n",
        "print()\n",
        "\n",
        "x_row_index = np.arange(5).reshape(5, 1)\n",
        "x_col_index = np.arange(5)\n",
        "y = x_row_index <= x_col_index\n",
        "print(y)\n",
        "print()\n",
        "\n",
        "x[y] = -np.inf\n",
        "print(x)"
      ],
      "metadata": {
        "id": "4RQ6egHlhprZ",
        "colab": {
          "base_uri": "https://localhost:8080/"
        },
        "outputId": "8d9fb501-8a9a-4dac-a713-c98016835be2"
      },
      "execution_count": null,
      "outputs": [
        {
          "output_type": "stream",
          "name": "stdout",
          "text": [
            "[[ 1.55133911  0.07918602  0.17397653 -0.07233657 -2.0043294 ]\n",
            " [ 0.14467781 -1.50116862  0.21110945 -0.55820506  1.08452906]\n",
            " [-0.18628912  0.01466137 -1.07556947  0.64225207 -0.18033671]\n",
            " [ 0.62030025  0.81097433  0.77793587 -0.23748968 -1.89191235]\n",
            " [-1.17212179  0.83620697  1.0092734   1.29309936 -0.54933117]]\n",
            "\n",
            "[[ True  True  True  True  True]\n",
            " [False  True  True  True  True]\n",
            " [False False  True  True  True]\n",
            " [False False False  True  True]\n",
            " [False False False False  True]]\n",
            "\n",
            "[[       -inf        -inf        -inf        -inf        -inf]\n",
            " [ 0.14467781        -inf        -inf        -inf        -inf]\n",
            " [-0.18628912  0.01466137        -inf        -inf        -inf]\n",
            " [ 0.62030025  0.81097433  0.77793587        -inf        -inf]\n",
            " [-1.17212179  0.83620697  1.0092734   1.29309936        -inf]]\n"
          ]
        }
      ]
    },
    {
      "cell_type": "code",
      "source": [
        "x = np.arange(9).reshape(3, 3)\n",
        "Q, R = np.linalg.qr(x)\n",
        "print(Q)\n",
        "print()\n",
        "print(R)"
      ],
      "metadata": {
        "colab": {
          "base_uri": "https://localhost:8080/"
        },
        "id": "WkFKrOVUiYA8",
        "outputId": "31641670-7960-4df8-8d19-7b50ff2619a9"
      },
      "execution_count": null,
      "outputs": [
        {
          "output_type": "stream",
          "name": "stdout",
          "text": [
            "[[ 0.          0.91287093  0.40824829]\n",
            " [-0.4472136   0.36514837 -0.81649658]\n",
            " [-0.89442719 -0.18257419  0.40824829]]\n",
            "\n",
            "[[-6.70820393e+00 -8.04984472e+00 -9.39148551e+00]\n",
            " [ 0.00000000e+00  1.09544512e+00  2.19089023e+00]\n",
            " [ 0.00000000e+00  0.00000000e+00 -8.88178420e-16]]\n"
          ]
        }
      ]
    },
    {
      "cell_type": "code",
      "source": [
        "U, S, Vt = np.linalg.svd(x)\n",
        "print(U)\n",
        "print()\n",
        "print(S)\n",
        "print()\n",
        "print(Vt)\n",
        "print()\n",
        "\n",
        "reconstructed = U @ np.diag(S) @ Vt\n",
        "print(reconstructed)"
      ],
      "metadata": {
        "colab": {
          "base_uri": "https://localhost:8080/"
        },
        "id": "9oaKOPfEiixz",
        "outputId": "2ce8e812-eb59-4ded-ac98-c10852f32d96"
      },
      "execution_count": null,
      "outputs": [
        {
          "output_type": "stream",
          "name": "stdout",
          "text": [
            "[[-0.13511895  0.90281571  0.40824829]\n",
            " [-0.49633514  0.29493179 -0.81649658]\n",
            " [-0.85755134 -0.31295213  0.40824829]]\n",
            "\n",
            "[1.42267074e+01 1.26522599e+00 5.89938022e-16]\n",
            "\n",
            "[[-0.4663281  -0.57099079 -0.67565348]\n",
            " [-0.78477477 -0.08545673  0.61386131]\n",
            " [-0.40824829  0.81649658 -0.40824829]]\n",
            "\n",
            "[[-1.14123474e-16  1.00000000e+00  2.00000000e+00]\n",
            " [ 3.00000000e+00  4.00000000e+00  5.00000000e+00]\n",
            " [ 6.00000000e+00  7.00000000e+00  8.00000000e+00]]\n"
          ]
        }
      ]
    },
    {
      "cell_type": "code",
      "source": [
        "x = np.arange(25).reshape(5, 5)\n",
        "\n",
        "det = np.linalg.det(x)\n",
        "print(det)\n",
        "print()\n",
        "\n",
        "trace = np.linalg.trace(x)\n",
        "print(trace)\n",
        "print()\n",
        "\n",
        "vals, vec = np.linalg.eig(x)\n",
        "print(vals)\n",
        "print()\n",
        "print(vec)"
      ],
      "metadata": {
        "id": "3KSkz3PzjNj-",
        "colab": {
          "base_uri": "https://localhost:8080/"
        },
        "outputId": "17a47023-cad4-4ef1-c97c-43c377296660"
      },
      "execution_count": null,
      "outputs": [
        {
          "output_type": "stream",
          "name": "stdout",
          "text": [
            "0.0\n",
            "\n",
            "60\n",
            "\n",
            "[ 6.39116499e+01+0.00000000e+00j -3.91164992e+00+0.00000000e+00j\n",
            " -3.22069971e-15+0.00000000e+00j  2.58587115e-16+7.36422729e-16j\n",
            "  2.58587115e-16-7.36422729e-16j]\n",
            "\n",
            "[[-0.0851802 +0.j          0.67779864+0.j          0.24109755+0.j\n",
            "   0.23152795-0.12469177j  0.23152795+0.12469177j]\n",
            " [-0.23825372+0.j          0.36348873+0.j         -0.54061326+0.j\n",
            "  -0.21054131-0.10215471j -0.21054131+0.10215471j]\n",
            " [-0.39132723+0.j          0.04917881+0.j         -0.02551006+0.j\n",
            "   0.18426328+0.4026156j   0.18426328-0.4026156j ]\n",
            " [-0.54440074+0.j         -0.2651311 +0.j          0.70846967+0.j\n",
            "  -0.66301443+0.j         -0.66301443-0.j        ]\n",
            " [-0.69747425+0.j         -0.57944101+0.j         -0.38344391+0.j\n",
            "   0.45776451-0.17576912j  0.45776451+0.17576912j]]\n"
          ]
        }
      ]
    },
    {
      "cell_type": "code",
      "source": [
        "np.random.seed(15)\n",
        "\n",
        "A = np.random.randint(0, 11, (4, 4))\n",
        "inverse = np.linalg.inv(A)\n",
        "# no error = invertible!\n",
        "\n",
        "x = np.random.randint(0, 11, 4)\n",
        "sol = np.linalg.solve(A, b)\n",
        "print(sol)\n",
        "print()\n",
        "\n",
        "print(A @ sol)\n",
        "print(b) # sol and b match up"
      ],
      "metadata": {
        "colab": {
          "base_uri": "https://localhost:8080/"
        },
        "id": "hJvO174KlRph",
        "outputId": "1e102da1-c94a-4064-8e0d-144995f7330f"
      },
      "execution_count": null,
      "outputs": [
        {
          "output_type": "stream",
          "name": "stdout",
          "text": [
            "[-0.65867769 -0.51983471  0.45206612  1.22975207]\n",
            "\n",
            "[3. 6. 8. 2.]\n",
            "[3 6 8 2]\n"
          ]
        }
      ]
    },
    {
      "cell_type": "code",
      "source": [
        "np.random.seed(57)\n",
        "\n",
        "M = np.random.randint(0, 6, (5, 5))\n",
        "\n",
        "det = np.linalg.det(M)\n",
        "print(det)\n",
        "print()\n",
        "\n",
        "rank = np.linalg.matrix_rank(M)\n",
        "print(rank)\n",
        "print()\n",
        "\n",
        "trace = np.linalg.trace(M)\n",
        "print(trace)\n",
        "print()\n",
        "\n",
        "inverse = np.linalg.inv(A)\n",
        "print(inverse)\n",
        "print()\n",
        "\n",
        "print(A @ inverse) # approximately identity matrix"
      ],
      "metadata": {
        "colab": {
          "base_uri": "https://localhost:8080/"
        },
        "id": "RCYUf2m1l6Ri",
        "outputId": "1d041e58-4ae0-4f0b-eef3-1d6d8cb88bf0"
      },
      "execution_count": null,
      "outputs": [
        {
          "output_type": "stream",
          "name": "stdout",
          "text": [
            "-1344.0000000000002\n",
            "\n",
            "5\n",
            "\n",
            "16\n",
            "\n",
            "[[ 0.06528926 -0.2214876   0.03140496  0.11157025]\n",
            " [-0.17933884 -0.27768595  0.12892562  0.32644628]\n",
            " [ 0.10826446  0.32892562 -0.18842975 -0.16942149]\n",
            " [ 0.11900826  0.21652893  0.00661157 -0.23966942]]\n",
            "\n",
            "[[ 1.00000000e+00  1.11022302e-16  6.67868538e-17  1.38777878e-16]\n",
            " [ 2.77555756e-17  1.00000000e+00 -1.09287579e-16  2.77555756e-16]\n",
            " [ 1.94289029e-16  2.22044605e-16  1.00000000e+00 -5.55111512e-17]\n",
            " [ 9.71445147e-17  1.11022302e-16 -6.33174069e-17  1.00000000e+00]]\n"
          ]
        }
      ]
    },
    {
      "cell_type": "code",
      "source": [
        "np.random.seed(27)\n",
        "\n",
        "E = np.random.randint(0, 6, (3, 3))\n",
        "vals, vec = np.linalg.eig(E)\n",
        "print(vals)\n",
        "print()\n",
        "print(vec)\n",
        "print()\n",
        "\n",
        "for i in range(len(vals)):\n",
        "  Av = E @ vec[:, i]\n",
        "  lambdav = vals[i] * vec[:, i]\n",
        "  print(np.allclose(Av, lambdav))"
      ],
      "metadata": {
        "colab": {
          "base_uri": "https://localhost:8080/"
        },
        "id": "ZSzrGY8imWU3",
        "outputId": "c6714b9c-2a00-4c78-db9d-9cb95df97287"
      },
      "execution_count": null,
      "outputs": [
        {
          "output_type": "stream",
          "name": "stdout",
          "text": [
            "[ 5.85410197 -0.85410197  3.        ]\n",
            "\n",
            "[[ 0.          0.          1.        ]\n",
            " [ 0.6494574   0.98572192  0.        ]\n",
            " [ 0.76039797 -0.16838141  0.        ]]\n",
            "\n",
            "True\n",
            "True\n",
            "True\n"
          ]
        }
      ]
    },
    {
      "cell_type": "code",
      "source": [
        "A = np.random.randint(0, 11, (4, 4))\n",
        "B = np.random.randint(0, 11, (4, 4))\n",
        "\n",
        "C = A @ B\n",
        "print(C)\n",
        "print()\n",
        "\n",
        "det = np.linalg.det(C)\n",
        "print(det)\n",
        "trace = np.linalg.trace(C)\n",
        "print(trace)\n",
        "rank = np.linalg.matrix_rank(C)\n",
        "print(rank)\n",
        "inverse = np.linalg.inv(C)\n",
        "print(inverse)\n",
        "print() # C is invertible!\n",
        "\n",
        "b = np.random.randint(0, 11, 4)\n",
        "sol = np.linalg.solve(C, b)\n",
        "print(sol)\n",
        "print()\n",
        "\n",
        "Q, R = np.linalg.qr(C)\n",
        "print(Q)\n",
        "print(R)\n",
        "print()\n",
        "\n",
        "U, S, Vt = np.linalg.svd(C)\n",
        "print(U)\n",
        "print(S)\n",
        "print(Vt)"
      ],
      "metadata": {
        "colab": {
          "base_uri": "https://localhost:8080/"
        },
        "id": "AlKWUzrAnDJU",
        "outputId": "390c4459-eda9-46c0-ca10-e5c868904417"
      },
      "execution_count": null,
      "outputs": [
        {
          "output_type": "stream",
          "name": "stdout",
          "text": [
            "[[ 79  56  57  26]\n",
            " [ 70  61  61  22]\n",
            " [130  72  74  54]\n",
            " [ 92  63  65  46]]\n",
            "\n",
            "-22535.999999999873\n",
            "260\n",
            "4\n",
            "[[ 0.0257366  -0.01499823  0.03159389 -0.04446219]\n",
            " [-1.46556621  1.03682996  0.57330493 -0.34052183]\n",
            " [ 1.49006035 -1.02351793 -0.61909833  0.37406816]\n",
            " [-0.14980476  0.05626553  0.02644657  0.0484558 ]]\n",
            "\n",
            "[-0.21538871  3.43423855 -3.34957401  0.67784878]\n",
            "\n",
            "[[-0.41347658 -0.21204135  0.03009637 -0.88496881]\n",
            " [-0.36637165 -0.73797356 -0.45900473  0.33238757]\n",
            " [-0.6804045   0.62519955 -0.34895071  0.15623265]\n",
            " [-0.48151703 -0.13985354  0.81648164  0.28625176]]\n",
            "[[-191.0628169  -124.82805596 -127.5653756   -77.70219366]\n",
            " [   0.          -20.68710817  -19.9284575     5.57901946]\n",
            " [   0.            0.            0.96515822    9.39921837]\n",
            " [   0.            0.            0.            5.90748136]]\n",
            "\n",
            "[[-0.42098097 -0.28844633  0.39063722  0.76614379]\n",
            " [-0.40918034 -0.73814647  0.05949554 -0.53307741]\n",
            " [-0.63633629  0.60500005  0.3659314  -0.30845627]\n",
            " [-0.50042242  0.07689892 -0.84258949  0.18359441]]\n",
            "[273.32779924  24.13525587   9.34183392   0.36568654]\n",
            "[[-0.69756059 -0.46053772 -0.47039584 -0.28291694]\n",
            " [ 0.46683552 -0.52932081 -0.48476559  0.51661049]\n",
            " [ 0.54356321 -0.13179047 -0.19202265 -0.80641032]\n",
            " [ 0.00358549 -0.70025407  0.71193917 -0.05266883]]\n"
          ]
        }
      ]
    }
  ]
}