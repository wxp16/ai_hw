{
  "cells": [
    {
      "cell_type": "code",
      "source": [
        "import pandas as pd\n",
        "\n",
        "df = pd.read_csv(\"hour.csv\")"
      ],
      "metadata": {
        "id": "TDcAQr6HbVx3"
      },
      "execution_count": 93,
      "outputs": []
    },
    {
      "cell_type": "code",
      "source": [
        "weekday = df['weekday']"
      ],
      "metadata": {
        "id": "Tv4ayCH-OZQk"
      },
      "execution_count": 6,
      "outputs": []
    },
    {
      "cell_type": "code",
      "source": [
        "weekday_workingday_temp = df[['weekday', 'workingday', 'temp']]"
      ],
      "metadata": {
        "id": "3JimTU2EOawZ"
      },
      "execution_count": 26,
      "outputs": []
    },
    {
      "cell_type": "code",
      "source": [
        "df['instant'] = df['instant'].astype('str') + \"hello\"\n",
        "df.set_index('instant', inplace = True)"
      ],
      "metadata": {
        "id": "8JkAverLR_4C"
      },
      "execution_count": 94,
      "outputs": []
    },
    {
      "cell_type": "code",
      "source": [
        "row_5 = df.iloc[5]"
      ],
      "metadata": {
        "id": "oFfaX5CPUzSM"
      },
      "execution_count": 56,
      "outputs": []
    },
    {
      "cell_type": "code",
      "source": [
        "row_5_to_9 = df.iloc[5:10]"
      ],
      "metadata": {
        "id": "B96S-okJVE9v"
      },
      "execution_count": 101,
      "outputs": []
    },
    {
      "cell_type": "code",
      "source": [
        "row_5_to_10= df.iloc[5:11]"
      ],
      "metadata": {
        "id": "2uHmetcHVT7I"
      },
      "execution_count": 100,
      "outputs": []
    },
    {
      "cell_type": "code",
      "source": [
        "rows_5hello_to_9hello = df.loc[[\"5hello\", \"6hello\", \"7hello\", \"8hello\", \"9hello\"]]"
      ],
      "metadata": {
        "id": "HF9TBIEaYdBX"
      },
      "execution_count": 102,
      "outputs": []
    },
    {
      "cell_type": "code",
      "source": [
        "rows_5hello_to_10hello = df.loc[[\"5hello\", \"6hello\", \"7hello\", \"8hello\", \"9hello\", \"10hello\"]]"
      ],
      "metadata": {
        "id": "H2rdYEoxYxsP"
      },
      "execution_count": 104,
      "outputs": []
    },
    {
      "cell_type": "code",
      "source": [
        "weekday_workingday_temp_rows_5_to_9 = weekday_workingday_temp.iloc[5:10]"
      ],
      "metadata": {
        "id": "NrXViCnhY5vg"
      },
      "execution_count": 107,
      "outputs": []
    },
    {
      "cell_type": "code",
      "source": [
        "bool_cond = ((df[\"hum\"] >= 0.75) & (df[\"hum\"] <= 0.8) & (df['temp'] < 0.4))\n",
        "bool_df = df[bool_cond]"
      ],
      "metadata": {
        "id": "HSouuDrqZT6F"
      },
      "execution_count": 112,
      "outputs": []
    },
    {
      "cell_type": "code",
      "source": [
        "is_1 = (df[\"season\"] == 1)\n",
        "is_2 = (df[\"season\"] == 2)\n",
        "is_3 = (df[\"season\"] == 3)\n",
        "is_4 = (df[\"season\"] == 4)\n",
        "\n",
        "if (df[is_1].any):\n",
        "  df[\"season\"] = 'A'\n",
        "elif (df[is_2].any):\n",
        "  df[\"season\"] = 'B'\n",
        "elif (df[is_3].any):\n",
        "  df[\"season\"] = 'C'\n",
        "else:\n",
        "  df[\"season\"] = 'D'"
      ],
      "metadata": {
        "id": "DlwxNs61Zj3g"
      },
      "execution_count": 124,
      "outputs": []
    }
  ],
  "metadata": {
    "colab": {
      "provenance": []
    },
    "kernelspec": {
      "display_name": "Python 3",
      "name": "python3"
    },
    "language_info": {
      "name": "python"
    }
  },
  "nbformat": 4,
  "nbformat_minor": 0
}