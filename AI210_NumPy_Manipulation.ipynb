{
  "cells": [
    {
      "cell_type": "code",
      "source": [
        "import numpy as np"
      ],
      "metadata": {
        "id": "kI0TEaWiLPqn"
      },
      "execution_count": 1,
      "outputs": []
    },
    {
      "cell_type": "code",
      "source": [
        "arr1 = np.array([])\n",
        "print(arr1.shape)\n",
        "arr1 = arr1[np.newaxis]\n",
        "print(arr1.shape)"
      ],
      "metadata": {
        "colab": {
          "base_uri": "https://localhost:8080/"
        },
        "id": "tvWj5SS3LYuf",
        "outputId": "f9eadb84-9b09-4720-efeb-fbbfbc8c915a"
      },
      "execution_count": 10,
      "outputs": [
        {
          "output_type": "stream",
          "name": "stdout",
          "text": [
            "(0,)\n",
            "(1, 0)\n"
          ]
        }
      ]
    },
    {
      "cell_type": "code",
      "source": [
        "arr2 = np.arange(3)\n",
        "print(arr2.shape)\n",
        "arr2 = arr2[np.newaxis]\n",
        "print(arr2.shape)"
      ],
      "metadata": {
        "colab": {
          "base_uri": "https://localhost:8080/"
        },
        "id": "dhTK-MklLwuS",
        "outputId": "9a96ca27-35b5-4ae9-d144-fc953b6f1d0f"
      },
      "execution_count": 13,
      "outputs": [
        {
          "output_type": "stream",
          "name": "stdout",
          "text": [
            "(3,)\n",
            "(1, 3)\n"
          ]
        }
      ]
    },
    {
      "cell_type": "code",
      "source": [
        "arr3 = np.arange(3)\n",
        "print(arr2.shape)\n",
        "arr3 = arr3[:, np.newaxis]\n",
        "print(arr3.shape)"
      ],
      "metadata": {
        "colab": {
          "base_uri": "https://localhost:8080/"
        },
        "id": "8Rtf64esL6r0",
        "outputId": "c37810e4-722c-44a5-b508-ccee62a265a6"
      },
      "execution_count": 14,
      "outputs": [
        {
          "output_type": "stream",
          "name": "stdout",
          "text": [
            "(1, 3)\n",
            "(3, 1)\n"
          ]
        }
      ]
    },
    {
      "cell_type": "code",
      "source": [
        "arr4 = np.arange(6).reshape(3, 2)\n",
        "print(arr4.shape)\n",
        "arr4 = arr4[:, :, np.newaxis]\n",
        "print(arr4.shape)"
      ],
      "metadata": {
        "colab": {
          "base_uri": "https://localhost:8080/"
        },
        "id": "i-Mpa_yoMAcI",
        "outputId": "74322719-1b78-4c27-dfdd-c23c00ec493c"
      },
      "execution_count": 20,
      "outputs": [
        {
          "output_type": "stream",
          "name": "stdout",
          "text": [
            "(3, 2)\n",
            "(3, 2, 1)\n"
          ]
        }
      ]
    },
    {
      "cell_type": "code",
      "source": [
        "arr5 = np.arange(6).reshape(3, 2)\n",
        "print(arr5.shape)\n",
        "arr5 = arr5[:, np.newaxis, :]\n",
        "print(arr5.shape)"
      ],
      "metadata": {
        "colab": {
          "base_uri": "https://localhost:8080/"
        },
        "id": "WsXiLsytMOu6",
        "outputId": "ae4d83b6-8c62-4649-8ed1-bab183d6b2f1"
      },
      "execution_count": 35,
      "outputs": [
        {
          "output_type": "stream",
          "name": "stdout",
          "text": [
            "(3, 2)\n",
            "(3, 1, 2)\n"
          ]
        }
      ]
    },
    {
      "cell_type": "code",
      "source": [
        "arr6 = np.arange(6).reshape(3, 2)\n",
        "print(arr6.shape)\n",
        "arr6 = arr6[np.newaxis, :, :]\n",
        "print(arr6.shape)"
      ],
      "metadata": {
        "colab": {
          "base_uri": "https://localhost:8080/"
        },
        "id": "h3bzff0pMwKw",
        "outputId": "3226af6e-1245-4b8a-9382-68c9e5be76a6"
      },
      "execution_count": 38,
      "outputs": [
        {
          "output_type": "stream",
          "name": "stdout",
          "text": [
            "(3, 2)\n",
            "(1, 3, 2)\n"
          ]
        }
      ]
    },
    {
      "cell_type": "code",
      "source": [
        "arr7 = np.arange(120).reshape(1, 3, 1, 4, 2, 5, 1, 1)\n",
        "print(arr7.shape)\n",
        "arr7 = arr7.reshape(3, 4, 2, 5)\n",
        "print(arr7.shape)"
      ],
      "metadata": {
        "colab": {
          "base_uri": "https://localhost:8080/"
        },
        "id": "HilZIPBVM1pG",
        "outputId": "ed9fad2d-c350-458a-ad20-0de4fea22c7b"
      },
      "execution_count": 43,
      "outputs": [
        {
          "output_type": "stream",
          "name": "stdout",
          "text": [
            "(1, 3, 1, 4, 2, 5, 1, 1)\n",
            "(3, 4, 2, 5)\n"
          ]
        }
      ]
    },
    {
      "cell_type": "code",
      "source": [
        "arr8 = np.arange(24).reshape(4, 6)\n",
        "print(arr8.shape)\n",
        "arr8_ravel = arr8.ravel()\n",
        "print(arr8_ravel.shape)\n",
        "arr8_flatten = arr8.flatten()\n",
        "print(arr8_flatten.shape)\n",
        "arr8_reshape = arr8.reshape(24)\n",
        "print(arr8_reshape.shape)\n",
        "arr8 = arr8.reshape(4, 2, 3)\n",
        "print(arr8.shape)\n",
        "arr8 = arr8.reshape(6, 2, 2)\n",
        "print(arr8.shape)"
      ],
      "metadata": {
        "colab": {
          "base_uri": "https://localhost:8080/"
        },
        "id": "IOl-O6LTNCcU",
        "outputId": "62bf44ae-f6e5-46de-ebc2-ad0652f0af00"
      },
      "execution_count": 56,
      "outputs": [
        {
          "output_type": "stream",
          "name": "stdout",
          "text": [
            "(4, 6)\n",
            "(24,)\n",
            "(24,)\n",
            "(24,)\n",
            "(4, 2, 3)\n",
            "(6, 2, 2)\n"
          ]
        }
      ]
    },
    {
      "cell_type": "code",
      "source": [
        "arr9 = np.arange(120).reshape(2, 3, 4, 5)\n",
        "print(arr9.shape)\n",
        "arr9_permuted = arr9.reshape(2, 5, 3, 4)\n",
        "print(arr9_permuted.shape)\n",
        "arr9 = arr9.reshape(1, 1, -1, 2)\n",
        "print(arr9.shape)"
      ],
      "metadata": {
        "colab": {
          "base_uri": "https://localhost:8080/"
        },
        "id": "2X2owo2MNe5g",
        "outputId": "bfe579e0-fa0c-425e-c1fe-3613538490fc"
      },
      "execution_count": 79,
      "outputs": [
        {
          "output_type": "stream",
          "name": "stdout",
          "text": [
            "(2, 3, 4, 5)\n",
            "(2, 5, 3, 4)\n",
            "(1, 1, 60, 2)\n"
          ]
        }
      ]
    },
    {
      "cell_type": "code",
      "source": [
        "arr10 = np.arange(20).reshape(4, 5)\n",
        "print(arr10.shape)\n",
        "arr10 = arr10.swapaxes(1, 0)\n",
        "print(arr10.shape)"
      ],
      "metadata": {
        "colab": {
          "base_uri": "https://localhost:8080/"
        },
        "id": "lASvI-WzPFTK",
        "outputId": "4ae7935f-c170-45f3-821f-4e76beaf89aa"
      },
      "execution_count": 88,
      "outputs": [
        {
          "output_type": "stream",
          "name": "stdout",
          "text": [
            "(4, 5)\n",
            "(5, 4)\n"
          ]
        }
      ]
    },
    {
      "cell_type": "code",
      "source": [
        "np.random.seed(37)\n",
        "\n",
        "arr11 = np.random.randint(1, 21, 5)\n",
        "arr12 = np.random.randint(1, 21, 5)\n",
        "arr13 = np.random.randint(1, 21, 5)\n",
        "arr14 = np.concatenate((arr11, arr12, arr13))\n",
        "arr14 = arr14.reshape(3, 5)\n",
        "arr15 = np.sort(arr14, axis = 1)\n",
        "print(arr15)"
      ],
      "metadata": {
        "colab": {
          "base_uri": "https://localhost:8080/"
        },
        "id": "js1c9j-XPTEp",
        "outputId": "0970443e-5edf-4a49-b57c-15001aa1a32d"
      },
      "execution_count": 105,
      "outputs": [
        {
          "output_type": "stream",
          "name": "stdout",
          "text": [
            "[[ 4  4 12 13 16]\n",
            " [ 4  9  9 11 19]\n",
            " [13 13 15 18 20]]\n"
          ]
        }
      ]
    },
    {
      "cell_type": "code",
      "source": [
        "np.random.seed(15)\n",
        "\n",
        "N = 6\n",
        "H = 3\n",
        "W = 4\n",
        "C = 5\n",
        "\n",
        "x = np.empty(shape = (0, H, W, C))\n",
        "\n",
        "for n in range(N):\n",
        "  new_image = np.random.randint(1, 100, (H, W, C))\n",
        "  x = np.concat(new_image, axis = 0)"
      ],
      "metadata": {
        "id": "CqqmUFw5QO5z"
      },
      "execution_count": 143,
      "outputs": []
    },
    {
      "cell_type": "code",
      "source": [
        "np.random.seed(423)\n",
        "\n",
        "x_list = []\n",
        "\n",
        "for n in range(N):\n",
        "  new_image = np.random.randint(1, 100, (H, W, C))\n",
        "  x_list.append(new_image)\n",
        "\n",
        "x_array = np.concatenate(x_list, axis = 0)"
      ],
      "metadata": {
        "id": "4cUsN0FHQ_ak"
      },
      "execution_count": 126,
      "outputs": []
    },
    {
      "cell_type": "code",
      "source": [
        "intercept_ = np.array([])\n",
        "d = 10\n",
        "coef_ = np.arange(d)\n",
        "theta = np.arange(d + 1)\n",
        "theta_concat = np.concat((intercept_, coef_))\n",
        "theta_stack = np.hstack((intercept_, coef_))"
      ],
      "metadata": {
        "id": "K0lihcxNSCFp"
      },
      "execution_count": 147,
      "outputs": []
    },
    {
      "cell_type": "code",
      "source": [
        "N = 3\n",
        "d = 2\n",
        "X = np.arange(N * d).reshape(N, d)\n",
        "y = np.ones((N, 1))\n",
        "X = np.hstack((y, X))\n",
        "print(X)\n"
      ],
      "metadata": {
        "colab": {
          "base_uri": "https://localhost:8080/"
        },
        "id": "GTwxDUwzSzNp",
        "outputId": "a53d2ac7-bc16-453e-c682-7df1b7ee5778"
      },
      "execution_count": 179,
      "outputs": [
        {
          "output_type": "stream",
          "name": "stdout",
          "text": [
            "[[0 1]\n",
            " [2 3]\n",
            " [4 5]]\n",
            "[[1.]\n",
            " [1.]\n",
            " [1.]]\n",
            "(3, 1)\n",
            "[[1. 0. 1.]\n",
            " [1. 2. 3.]\n",
            " [1. 4. 5.]]\n"
          ]
        }
      ]
    }
  ],
  "metadata": {
    "colab": {
      "provenance": []
    },
    "kernelspec": {
      "display_name": "Python 3",
      "name": "python3"
    },
    "language_info": {
      "name": "python"
    }
  },
  "nbformat": 4,
  "nbformat_minor": 0
}